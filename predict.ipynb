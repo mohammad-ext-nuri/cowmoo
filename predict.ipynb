{
 "cells": [
  {
   "cell_type": "code",
   "execution_count": 9,
   "metadata": {},
   "outputs": [],
   "source": [
    "import pandas as pd\n",
    "from os import listdir\n",
    "from os.path import join\n",
    "from utils.config import path_config, audio_config, feature_config\n",
    "from pycaret.classification import load_model, predict_model\n",
    "from utils.predict import predict_audio_class\n",
    "from utils.feature_extrcation import load_audio_extract_feat"
   ]
  },
  {
   "cell_type": "code",
   "execution_count": null,
   "metadata": {},
   "outputs": [],
   "source": []
  },
  {
   "cell_type": "code",
   "execution_count": 2,
   "metadata": {},
   "outputs": [
    {
     "name": "stdout",
     "output_type": "stream",
     "text": [
      "Transformation Pipeline and Model Successfully Loaded\n"
     ]
    }
   ],
   "source": [
    "model_path = path_config['model']\n",
    "model = load_model(join(model_path,'model'))"
   ]
  },
  {
   "cell_type": "code",
   "execution_count": 3,
   "metadata": {},
   "outputs": [
    {
     "data": {
      "text/plain": [
       "['h11.wav',\n",
       " 'h13.wav',\n",
       " 'moo5.wav',\n",
       " '.DS_Store',\n",
       " 'dog4.wav',\n",
       " 'dog1.wav',\n",
       " 'moo36.wav',\n",
       " 'moo22.wav',\n",
       " 'dog2.wav',\n",
       " 'dog3.wav',\n",
       " 'h18.wav',\n",
       " 'h30.wav',\n",
       " 'snore2.wav',\n",
       " 'snore3.wav',\n",
       " 'moo1 2.wav',\n",
       " 'h27.wav',\n",
       " 'snore1.wav']"
      ]
     },
     "execution_count": 3,
     "metadata": {},
     "output_type": "execute_result"
    }
   ],
   "source": [
    "test_data = path_config['test']\n",
    "listdir(test_data)"
   ]
  },
  {
   "cell_type": "code",
   "execution_count": 33,
   "metadata": {},
   "outputs": [],
   "source": [
    "test1 = 'data/test/h18.wav'\n",
    "# score1 = predict_audio_class(test1)\n",
    "features = load_audio_extract_feat(test1)\n",
    "features = pd.DataFrame(features, columns = feature_config['feature_columns'])\n",
    "prdctn = predict_model(model, data = features)\n",
    "\n",
    "result = {'class' : prdctn.Label[0], 'probability' : prdctn.Score[0] }\n"
   ]
  },
  {
   "cell_type": "code",
   "execution_count": 36,
   "metadata": {},
   "outputs": [
    {
     "data": {
      "text/plain": [
       "'hamba'"
      ]
     },
     "execution_count": 36,
     "metadata": {},
     "output_type": "execute_result"
    }
   ],
   "source": [
    "if result['class'] == 'cow' and result['probability'] > 0.7 and :\n",
    "    msg = f'Hmmm! Is there a real cow in thr room!'\n",
    "elif result['class'] == 'cow' and result['probability'] < 0.7:\n",
    "    msg = f'Wow! You Is there a real cow in thr room!'"
   ]
  },
  {
   "cell_type": "code",
   "execution_count": 29,
   "metadata": {},
   "outputs": [
    {
     "data": {
      "text/plain": [
       "{'class': 'snoring', 'probability': 0.7786}"
      ]
     },
     "execution_count": 29,
     "metadata": {},
     "output_type": "execute_result"
    }
   ],
   "source": []
  }
 ],
 "metadata": {
  "kernelspec": {
   "display_name": "Python 3.8.13 ('moo_dev')",
   "language": "python",
   "name": "python3"
  },
  "language_info": {
   "codemirror_mode": {
    "name": "ipython",
    "version": 3
   },
   "file_extension": ".py",
   "mimetype": "text/x-python",
   "name": "python",
   "nbconvert_exporter": "python",
   "pygments_lexer": "ipython3",
   "version": "3.8.13"
  },
  "orig_nbformat": 4,
  "vscode": {
   "interpreter": {
    "hash": "7b745fd29ee0ab9de0e32db6a9954fe10bff5fc91c284b88fcb881653208caa4"
   }
  }
 },
 "nbformat": 4,
 "nbformat_minor": 2
}
